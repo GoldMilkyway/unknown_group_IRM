{
 "cells": [
  {
   "cell_type": "code",
   "execution_count": 3,
   "id": "bdf9b33b",
   "metadata": {},
   "outputs": [],
   "source": [
    "import numpy as np"
   ]
  },
  {
   "cell_type": "code",
   "execution_count": 4,
   "id": "5b603745",
   "metadata": {},
   "outputs": [
    {
     "data": {
      "text/plain": [
       "array([0, 1, 2, 3, 4, 5, 6, 7, 8, 9])"
      ]
     },
     "execution_count": 4,
     "metadata": {},
     "output_type": "execute_result"
    }
   ],
   "source": []
  },
  {
   "cell_type": "code",
   "execution_count": 6,
   "id": "43bc2d2c",
   "metadata": {},
   "outputs": [],
   "source": [
    "import torch\n",
    "from torchvision import datasets"
   ]
  },
  {
   "cell_type": "code",
   "execution_count": 8,
   "id": "46f1c769",
   "metadata": {},
   "outputs": [],
   "source": [
    "mnist = datasets.MNIST('~/datasets/mnist', train=True, download=True)"
   ]
  },
  {
   "cell_type": "code",
   "execution_count": 10,
   "id": "5b4c6cf2",
   "metadata": {},
   "outputs": [
    {
     "data": {
      "text/plain": [
       "torchvision.datasets.mnist.MNIST"
      ]
     },
     "execution_count": 10,
     "metadata": {},
     "output_type": "execute_result"
    }
   ],
   "source": [
    "type(mnist)"
   ]
  },
  {
   "cell_type": "code",
   "execution_count": 13,
   "id": "92e22138",
   "metadata": {},
   "outputs": [],
   "source": [
    "mnist_train = (mnist.data[:50000], mnist.targets[:50000])\n",
    "mnist_test = (mnist.data[50000:], mnist.targets[:50000])\n"
   ]
  },
  {
   "cell_type": "code",
   "execution_count": 19,
   "id": "cb9b28f0",
   "metadata": {},
   "outputs": [],
   "source": [
    "from pprint import pprint\n",
    "import matplotlib.pyplot as plt"
   ]
  },
  {
   "cell_type": "code",
   "execution_count": 28,
   "id": "ceb3daba",
   "metadata": {},
   "outputs": [
    {
     "data": {
      "text/plain": [
       "<matplotlib.image.AxesImage at 0x1fe755cd4c0>"
      ]
     },
     "execution_count": 28,
     "metadata": {},
     "output_type": "execute_result"
    },
    {
     "data": {
      "image/png": "[encoded data removed]",
      "text/plain": [
       "<Figure size 432x288 with 1 Axes>"
      ]
     },
     "metadata": {
      "needs_background": "light"
     },
     "output_type": "display_data"
    }
   ],
   "source": [
    "\n",
    "\n",
    "plt.imshow(mnist_train[0][0])\n"
   ]
  },
  {
   "cell_type": "code",
   "execution_count": 39,
   "id": "b36bc0f8",
   "metadata": {},
   "outputs": [
    {
     "name": "stdout",
     "output_type": "stream",
     "text": [
      "None\n"
     ]
    }
   ],
   "source": [
    "x = torch.tensor([1.], requires_grad = True)\n",
    "print(x.grad)\n"
   ]
  },
  {
   "cell_type": "code",
   "execution_count": 44,
   "id": "41d71595",
   "metadata": {},
   "outputs": [
    {
     "ename": "TypeError",
     "evalue": "__init__() missing 1 required positional argument: 'params'",
     "output_type": "error",
     "traceback": [
      "\u001b[1;31m---------------------------------------------------------------------------\u001b[0m",
      "\u001b[1;31mTypeError\u001b[0m                                 Traceback (most recent call last)",
      "\u001b[1;32m~\\AppData\\Local\\Temp/ipykernel_10284/792413678.py\u001b[0m in \u001b[0;36m<module>\u001b[1;34m\u001b[0m\n\u001b[0;32m      1\u001b[0m \u001b[0my\u001b[0m \u001b[1;33m=\u001b[0m \u001b[0mx\u001b[0m\u001b[1;33m*\u001b[0m\u001b[0mx\u001b[0m\u001b[1;33m*\u001b[0m\u001b[0mx\u001b[0m\u001b[1;33m\u001b[0m\u001b[1;33m\u001b[0m\u001b[0m\n\u001b[0;32m      2\u001b[0m \u001b[0my\u001b[0m\u001b[1;33m.\u001b[0m\u001b[0mbackward\u001b[0m\u001b[1;33m(\u001b[0m\u001b[1;33m)\u001b[0m\u001b[1;33m\u001b[0m\u001b[1;33m\u001b[0m\u001b[0m\n\u001b[1;32m----> 3\u001b[1;33m \u001b[0mtorch\u001b[0m\u001b[1;33m.\u001b[0m\u001b[0moptim\u001b[0m\u001b[1;33m.\u001b[0m\u001b[0mAdam\u001b[0m\u001b[1;33m(\u001b[0m\u001b[1;33m)\u001b[0m\u001b[1;33m.\u001b[0m\u001b[0mzero_grad\u001b[0m\u001b[1;33m(\u001b[0m\u001b[1;33m)\u001b[0m\u001b[1;33m\u001b[0m\u001b[1;33m\u001b[0m\u001b[0m\n\u001b[0m\u001b[0;32m      4\u001b[0m \u001b[0mprint\u001b[0m\u001b[1;33m(\u001b[0m\u001b[0my\u001b[0m\u001b[1;33m)\u001b[0m\u001b[1;33m\u001b[0m\u001b[1;33m\u001b[0m\u001b[0m\n",
      "\u001b[1;31mTypeError\u001b[0m: __init__() missing 1 required positional argument: 'params'"
     ]
    }
   ],
   "source": [
    "y = x*x*x\n",
    "y.backward()\n",
    ".zero_grad()\n",
    "print(y)"
   ]
  },
  {
   "cell_type": "code",
   "execution_count": 42,
   "id": "4f16cf92",
   "metadata": {},
   "outputs": [
    {
     "name": "stdout",
     "output_type": "stream",
     "text": [
      "tensor([6.])\n"
     ]
    }
   ],
   "source": [
    "print(x.grad)"
   ]
  },
  {
   "cell_type": "code",
   "execution_count": 47,
   "id": "b79ef4d3",
   "metadata": {},
   "outputs": [
    {
     "data": {
      "text/plain": [
       "tensor([4.])"
      ]
     },
     "execution_count": 47,
     "metadata": {},
     "output_type": "execute_result"
    }
   ],
   "source": [
    "xx = torch.tensor([2.], requires_grad = True)\n",
    "yy = xx**2\n",
    "yy.backward()\n",
    "xx.grad"
   ]
  },
  {
   "cell_type": "code",
   "execution_count": 52,
   "id": "c42b898c",
   "metadata": {},
   "outputs": [],
   "source": [
    "from torch import nn\n",
    "one = torch.ones([4,3,4], requires_grad=True)\n",
    "lin1 = nn.Linear(4,3, bias=False)\n",
    "sig1 = nn.Sigmoid()\n",
    "output = lin1(one)\n",
    "real = sig1(output)"
   ]
  },
  {
   "cell_type": "code",
   "execution_count": 54,
   "id": "ac0b3c67",
   "metadata": {},
   "outputs": [
    {
     "data": {
      "text/plain": [
       "(tensor([[[0.7793, 0.5962, 0.3827],\n",
       "          [0.7793, 0.5962, 0.3827],\n",
       "          [0.7793, 0.5962, 0.3827]],\n",
       " \n",
       "         [[0.7793, 0.5962, 0.3827],\n",
       "          [0.7793, 0.5962, 0.3827],\n",
       "          [0.7793, 0.5962, 0.3827]],\n",
       " \n",
       "         [[0.7793, 0.5962, 0.3827],\n",
       "          [0.7793, 0.5962, 0.3827],\n",
       "          [0.7793, 0.5962, 0.3827]],\n",
       " \n",
       "         [[0.7793, 0.5962, 0.3827],\n",
       "          [0.7793, 0.5962, 0.3827],\n",
       "          [0.7793, 0.5962, 0.3827]]], grad_fn=<SigmoidBackward>),\n",
       " tensor([[[ 1.2618,  0.3895, -0.4780],\n",
       "          [ 1.2618,  0.3895, -0.4780],\n",
       "          [ 1.2618,  0.3895, -0.4780]],\n",
       " \n",
       "         [[ 1.2618,  0.3895, -0.4780],\n",
       "          [ 1.2618,  0.3895, -0.4780],\n",
       "          [ 1.2618,  0.3895, -0.4780]],\n",
       " \n",
       "         [[ 1.2618,  0.3895, -0.4780],\n",
       "          [ 1.2618,  0.3895, -0.4780],\n",
       "          [ 1.2618,  0.3895, -0.4780]],\n",
       " \n",
       "         [[ 1.2618,  0.3895, -0.4780],\n",
       "          [ 1.2618,  0.3895, -0.4780],\n",
       "          [ 1.2618,  0.3895, -0.4780]]], grad_fn=<UnsafeViewBackward>))"
      ]
     },
     "execution_count": 54,
     "metadata": {},
     "output_type": "execute_result"
    }
   ],
   "source": [
    "real, output"
   ]
  },
  {
   "cell_type": "code",
   "execution_count": 55,
   "id": "06fe1e61",
   "metadata": {},
   "outputs": [],
   "source": [
    "block = nn.Sequential(lin1, sig1)\n",
    "kk = torch.ones(4,3,4, requires_grad=True)"
   ]
  },
  {
   "cell_type": "code",
   "execution_count": 56,
   "id": "745d405b",
   "metadata": {},
   "outputs": [
    {
     "data": {
      "text/plain": [
       "tensor([[[0.7793, 0.5962, 0.3827],\n",
       "         [0.7793, 0.5962, 0.3827],\n",
       "         [0.7793, 0.5962, 0.3827]],\n",
       "\n",
       "        [[0.7793, 0.5962, 0.3827],\n",
       "         [0.7793, 0.5962, 0.3827],\n",
       "         [0.7793, 0.5962, 0.3827]],\n",
       "\n",
       "        [[0.7793, 0.5962, 0.3827],\n",
       "         [0.7793, 0.5962, 0.3827],\n",
       "         [0.7793, 0.5962, 0.3827]],\n",
       "\n",
       "        [[0.7793, 0.5962, 0.3827],\n",
       "         [0.7793, 0.5962, 0.3827],\n",
       "         [0.7793, 0.5962, 0.3827]]], grad_fn=<SigmoidBackward>)"
      ]
     },
     "execution_count": 56,
     "metadata": {},
     "output_type": "execute_result"
    }
   ],
   "source": [
    "real2 = block(kk)\n",
    "real2"
   ]
  },
  {
   "cell_type": "code",
   "execution_count": 72,
   "id": "39202cbf",
   "metadata": {},
   "outputs": [],
   "source": [
    "class MultilayerPerceptron(nn.Module):\n",
    "\n",
    "  def __init__(self, input_size, hidden_size, output_size):\n",
    "    # Call to the __init__ function of the super class\n",
    "    super(MultilayerPerceptron, self).__init__()\n",
    "\n",
    "    # Bookkeeping: Saving the initialization parameters\n",
    "    self.input_size = input_size \n",
    "    self.hidden_size = hidden_size \n",
    "    self.output_size = output_size\n",
    "\n",
    "    # Defining of our layers\n",
    "    self.linear = nn.Linear(self.input_size, self.hidden_size, bias=False)\n",
    "    self.relu = nn.ReLU()\n",
    "    self.linear2 = nn.Linear(self.hidden_size, self.output_size, bias=False)\n",
    "    self.sigmoid = nn.Sigmoid()\n",
    "    \n",
    "\n",
    "    \n",
    "  def forward(self, x):\n",
    "    linear = self.linear(x)\n",
    "    relu = self.relu(linear)\n",
    "    linear2 = self.linear2(relu)\n",
    "    output = self.sigmoid(linear2)\n",
    "    return output"
   ]
  },
  {
   "cell_type": "code",
   "execution_count": 73,
   "id": "e6ed2882",
   "metadata": {},
   "outputs": [],
   "source": [
    "aa = torch.rand(3,5, requires_grad=True)"
   ]
  },
  {
   "cell_type": "code",
   "execution_count": 79,
   "id": "8824d1bf",
   "metadata": {},
   "outputs": [
    {
     "data": {
      "text/plain": [
       "tensor([[0.5622, 0.4449],\n",
       "        [0.6059, 0.4040],\n",
       "        [0.5992, 0.4171]], grad_fn=<SigmoidBackward>)"
      ]
     },
     "execution_count": 79,
     "metadata": {},
     "output_type": "execute_result"
    }
   ],
   "source": [
    "model = MultilayerPerceptron(5,4,2)\n",
    "model(aa)"
   ]
  },
  {
   "cell_type": "code",
   "execution_count": 80,
   "id": "50e9c115",
   "metadata": {},
   "outputs": [
    {
     "data": {
      "text/plain": [
       "tensor([[0.5622, 0.4449],\n",
       "        [0.6059, 0.4040],\n",
       "        [0.5992, 0.4171]], grad_fn=<SigmoidBackward>)"
      ]
     },
     "execution_count": 80,
     "metadata": {},
     "output_type": "execute_result"
    }
   ],
   "source": [
    "model.forward(aa)"
   ]
  },
  {
   "cell_type": "code",
   "execution_count": 81,
   "id": "e549dc48",
   "metadata": {},
   "outputs": [
    {
     "data": {
      "text/plain": [
       "[Parameter containing:\n",
       " tensor([[ 0.2787, -0.3473,  0.2420, -0.1456,  0.3778],\n",
       "         [ 0.3231,  0.0079, -0.4211, -0.2332,  0.2256],\n",
       "         [ 0.3779, -0.1258,  0.2214,  0.3643, -0.0316],\n",
       "         [-0.0176,  0.1628, -0.2042, -0.1476, -0.1989]], requires_grad=True),\n",
       " Parameter containing:\n",
       " tensor([[ 0.0947,  0.0968,  0.4890, -0.0939],\n",
       "         [-0.4507, -0.2543, -0.1542, -0.2308]], requires_grad=True)]"
      ]
     },
     "execution_count": 81,
     "metadata": {},
     "output_type": "execute_result"
    }
   ],
   "source": [
    "list(model.parameters())"
   ]
  },
  {
   "cell_type": "code",
   "execution_count": 82,
   "id": "8fa55ee9",
   "metadata": {},
   "outputs": [
    {
     "data": {
      "text/plain": [
       "Parameter containing:\n",
       "tensor([[ 0.2787, -0.3473,  0.2420, -0.1456,  0.3778],\n",
       "        [ 0.3231,  0.0079, -0.4211, -0.2332,  0.2256],\n",
       "        [ 0.3779, -0.1258,  0.2214,  0.3643, -0.0316],\n",
       "        [-0.0176,  0.1628, -0.2042, -0.1476, -0.1989]], requires_grad=True)"
      ]
     },
     "execution_count": 82,
     "metadata": {},
     "output_type": "execute_result"
    }
   ],
   "source": [
    "list(model.parameters())[0]"
   ]
  },
  {
   "cell_type": "code",
   "execution_count": 83,
   "id": "83a4683d",
   "metadata": {},
   "outputs": [],
   "source": [
    "optimizer = torch.optim.Adam(model.parameters(), lr = 1e-3)"
   ]
  },
  {
   "cell_type": "code",
   "execution_count": 90,
   "id": "16c4683c",
   "metadata": {},
   "outputs": [],
   "source": [
    "lossfunc = nn.BCELoss()\n",
    "lossfunc2 = nn.CrossEntropyLoss()"
   ]
  },
  {
   "cell_type": "code",
   "execution_count": 115,
   "id": "fd2c9a6b",
   "metadata": {},
   "outputs": [],
   "source": [
    "y = torch.ones(3,2)"
   ]
  },
  {
   "cell_type": "code",
   "execution_count": 116,
   "id": "37b9b9e7",
   "metadata": {},
   "outputs": [
    {
     "data": {
      "text/plain": [
       "tensor(0.6966, grad_fn=<BinaryCrossEntropyBackward>)"
      ]
     },
     "execution_count": 116,
     "metadata": {},
     "output_type": "execute_result"
    }
   ],
   "source": [
    "loss = lossfunc(model(aa), y)\n",
    "loss"
   ]
  },
  {
   "cell_type": "code",
   "execution_count": 111,
   "id": "706a336f",
   "metadata": {},
   "outputs": [],
   "source": [
    "model_multinomial = MultilayerPerceptron(5,4,3)\n",
    "\n",
    "yy = torch.tensor([[1,0,0],[0,1,0],[0,0,1]])\n",
    "xx = torch.rand(3,5, 5)\n",
    "yy_pred = model_multinomial(xx)"
   ]
  },
  {
   "cell_type": "code",
   "execution_count": 112,
   "id": "276d582b",
   "metadata": {},
   "outputs": [
    {
     "data": {
      "text/plain": [
       "tensor(1.6082, grad_fn=<NllLoss2DBackward>)"
      ]
     },
     "execution_count": 112,
     "metadata": {},
     "output_type": "execute_result"
    }
   ],
   "source": [
    "loss2 = lossfunc2(yy_pred,yy)\n",
    "loss2"
   ]
  },
  {
   "cell_type": "code",
   "execution_count": 107,
   "id": "d31a2b32",
   "metadata": {},
   "outputs": [
    {
     "data": {
      "text/plain": [
       "torch.Size([3, 5, 3])"
      ]
     },
     "execution_count": 107,
     "metadata": {},
     "output_type": "execute_result"
    }
   ],
   "source": [
    "yy_pred.shape"
   ]
  },
  {
   "cell_type": "code",
   "execution_count": 108,
   "id": "c8d24b39",
   "metadata": {},
   "outputs": [
    {
     "data": {
      "text/plain": [
       "torch.Size([3, 3])"
      ]
     },
     "execution_count": 108,
     "metadata": {},
     "output_type": "execute_result"
    }
   ],
   "source": [
    "yy.shape"
   ]
  },
  {
   "cell_type": "code",
   "execution_count": 216,
   "id": "f3063352",
   "metadata": {},
   "outputs": [],
   "source": [
    "class Test(nn.Module):\n",
    "    def __init__(self, input_size, hidden_size, output_size):\n",
    "        super(Test, self).__init__()\n",
    "        self.input_size = input_size\n",
    "        self.hidden_size = hidden_size\n",
    "        self.output_size = output_size\n",
    "        \n",
    "        self.lin1 = nn.Linear(input_size, hidden_size, bias = False)\n",
    "        self.sig = nn.Sigmoid()\n",
    "        self.lin2 = nn.Linear(hidden_size, output_size, bias=False)\n",
    "        self.relu = nn.ReLU()\n",
    "        self.soft = nn.Softmax(dim=1)\n",
    "        \n",
    "        self.model = nn.Sequential(\n",
    "            self.lin1,\n",
    "            self.relu,\n",
    "            self.lin2,\n",
    "            self.soft\n",
    "            )\n",
    "    def forward(self, x):\n",
    "        output = self.model(x)\n",
    "        return output"
   ]
  },
  {
   "cell_type": "code",
   "execution_count": 217,
   "id": "b7c9ea5f",
   "metadata": {},
   "outputs": [],
   "source": [
    "x = torch.rand(3,4,3)\n"
   ]
  },
  {
   "cell_type": "code",
   "execution_count": 218,
   "id": "bf9d8abc",
   "metadata": {},
   "outputs": [
    {
     "data": {
      "text/plain": [
       "tensor([[[0.2506, 0.2463, 0.2434, 0.2545],\n",
       "         [0.2536, 0.2431, 0.2371, 0.2591],\n",
       "         [0.2485, 0.2494, 0.2493, 0.2502],\n",
       "         [0.2474, 0.2612, 0.2701, 0.2362]],\n",
       "\n",
       "        [[0.2477, 0.2495, 0.2495, 0.2490],\n",
       "         [0.2548, 0.2699, 0.2825, 0.2269],\n",
       "         [0.2434, 0.2267, 0.2132, 0.2796],\n",
       "         [0.2540, 0.2539, 0.2549, 0.2445]],\n",
       "\n",
       "        [[0.2514, 0.2350, 0.2242, 0.2694],\n",
       "         [0.2571, 0.2455, 0.2398, 0.2560],\n",
       "         [0.2470, 0.2656, 0.2778, 0.2308],\n",
       "         [0.2446, 0.2539, 0.2582, 0.2437]]], grad_fn=<SoftmaxBackward>)"
      ]
     },
     "execution_count": 218,
     "metadata": {},
     "output_type": "execute_result"
    }
   ],
   "source": [
    "model = Test(3,5,4)\n",
    "\n",
    "output = model(x)\n",
    "output"
   ]
  },
  {
   "cell_type": "code",
   "execution_count": 178,
   "id": "cb2bdb74",
   "metadata": {},
   "outputs": [
    {
     "data": {
      "text/plain": [
       "[Parameter containing:\n",
       " tensor([[-0.3955,  0.0325, -0.2553],\n",
       "         [-0.0396, -0.0960,  0.2772],\n",
       "         [ 0.2617, -0.0070, -0.1547],\n",
       "         [ 0.4051, -0.4362,  0.5070],\n",
       "         [-0.2186,  0.4014,  0.1879]], requires_grad=True),\n",
       " Parameter containing:\n",
       " tensor([[-0.0454,  0.2352, -0.0079, -0.4468,  0.3154],\n",
       "         [ 0.1893,  0.2875, -0.0810, -0.3082, -0.2136],\n",
       "         [ 0.3199,  0.4113, -0.2049, -0.3380,  0.4086],\n",
       "         [ 0.3112,  0.1009, -0.1175, -0.2523,  0.2903]], requires_grad=True)]"
      ]
     },
     "execution_count": 178,
     "metadata": {},
     "output_type": "execute_result"
    }
   ],
   "source": [
    "list(model.parameters())"
   ]
  },
  {
   "cell_type": "code",
   "execution_count": 179,
   "id": "13e96b61",
   "metadata": {},
   "outputs": [
    {
     "name": "stdout",
     "output_type": "stream",
     "text": [
      "tensor([[1, 0, 0, 0],\n",
      "        [0, 1, 0, 0],\n",
      "        [0, 0, 1, 0]])\n"
     ]
    },
    {
     "data": {
      "text/plain": [
       "tensor(1.3891, grad_fn=<NllLoss2DBackward>)"
      ]
     },
     "execution_count": 179,
     "metadata": {},
     "output_type": "execute_result"
    }
   ],
   "source": [
    "target = torch.tensor([[1,0,0,0],[0,1,0,0],[0,0,1,0]])\n",
    "print(target)\n",
    "lossfunction = nn.CrossEntropyLoss()\n",
    "loss = lossfunction(output, target)\n",
    "loss"
   ]
  },
  {
   "cell_type": "code",
   "execution_count": 220,
   "id": "81df89c5",
   "metadata": {},
   "outputs": [
    {
     "data": {
      "text/plain": [
       "tensor([2, 1, 3])"
      ]
     },
     "execution_count": 220,
     "metadata": {},
     "output_type": "execute_result"
    }
   ],
   "source": [
    "uu = torch.empty(3, dtype=torch.long).random_(5)\n",
    "uu"
   ]
  },
  {
   "cell_type": "code",
   "execution_count": 225,
   "id": "ef468780",
   "metadata": {},
   "outputs": [
    {
     "name": "stdout",
     "output_type": "stream",
     "text": [
      "<bound method Module.parameters of Test(\n",
      "  (lin1): Linear(in_features=3, out_features=5, bias=False)\n",
      "  (sig): Sigmoid()\n",
      "  (lin2): Linear(in_features=5, out_features=4, bias=False)\n",
      "  (relu): ReLU()\n",
      "  (soft): Softmax(dim=1)\n",
      "  (model): Sequential(\n",
      "    (0): Linear(in_features=3, out_features=5, bias=False)\n",
      "    (1): ReLU()\n",
      "    (2): Linear(in_features=5, out_features=4, bias=False)\n",
      "    (3): Softmax(dim=1)\n",
      "  )\n",
      ")>\n",
      "Parameter containing:\n",
      "tensor([[-0.5516, -0.4179, -0.4992],\n",
      "        [ 0.3858,  0.1969,  0.3017],\n",
      "        [-0.5736,  0.1465, -0.4065],\n",
      "        [-0.5598,  0.5602, -0.3259],\n",
      "        [-0.4716, -0.2832, -0.4860]], requires_grad=True) and\n",
      "tensor(2.7946, grad_fn=<PowBackward0>)\n",
      "Parameter containing:\n",
      "tensor([[-0.2866,  0.0941,  0.3425,  0.4371,  0.0651],\n",
      "        [-0.1027,  0.2608, -0.2645, -0.1273,  0.0572],\n",
      "        [-0.3248,  0.4120,  0.3613, -0.3663, -0.2086],\n",
      "        [-0.2250, -0.3087,  0.4174,  0.2264,  0.1420]], requires_grad=True) and\n",
      "tensor(1.5466, grad_fn=<PowBackward0>)\n"
     ]
    }
   ],
   "source": [
    "print(model.parameters)\n",
    "for w in model.parameters():\n",
    "    print(w, 'and')\n",
    "    print(w.norm().pow(2))"
   ]
  },
  {
   "cell_type": "markdown",
   "id": "b289cbbf",
   "metadata": {},
   "source": [
    "## Negative Log Liklihood"
   ]
  },
  {
   "cell_type": "code",
   "execution_count": 244,
   "id": "44126c1b",
   "metadata": {},
   "outputs": [],
   "source": [
    "# NLL in CE\n",
    "def nll (logits, y, reduction = 'mean'):\n",
    "    return nn.functional.cross_entropy(logits, y, reduction=reduction)\n",
    "\n",
    "class MLP(nn.Module):\n",
    "\n",
    "    def __init__(self, input_size, hidden_size, output_size):\n",
    "        super(MLP, self).__init__()\n",
    "        self.input_size = input_size\n",
    "        self.hidden_size = hidden_size\n",
    "        self.output_size = output_size\n",
    "\n",
    "        lin1 = nn.Linear(self.input_size, self.hidden_size)\n",
    "        lin2 = nn.Linear(self.hidden_size, self.hidden_size)\n",
    "        lin3 = nn.Linear(self.hidden_size, self.output_size)\n",
    "        self.model = nn.Sequential(lin1, lin2, lin3)\n",
    "    \n",
    "    def forward(self, x):\n",
    "        output = self.model(x)\n",
    "        return output"
   ]
  },
  {
   "cell_type": "code",
   "execution_count": 245,
   "id": "073c80ed",
   "metadata": {},
   "outputs": [],
   "source": [
    "x = torch.rand(3, 588) # minibatch = 3, dimension=588"
   ]
  },
  {
   "cell_type": "code",
   "execution_count": 246,
   "id": "caa85b87",
   "metadata": {},
   "outputs": [],
   "source": [
    "mlp_pre = MLP(588, 390, 3)\n",
    "logit = mlp_pre(x)"
   ]
  },
  {
   "cell_type": "code",
   "execution_count": 257,
   "id": "2ec01528",
   "metadata": {},
   "outputs": [
    {
     "name": "stdout",
     "output_type": "stream",
     "text": [
      "tensor([[0.0912, 0.1304, 0.1880],\n",
      "        [0.1130, 0.1427, 0.0655],\n",
      "        [0.1577, 0.1613, 0.0069]], grad_fn=<AddmmBackward>)\n",
      "torch.Size([3, 3])\n",
      "tensor([0, 1, 2])\n",
      "tensor([0, 1, 2])\n"
     ]
    }
   ],
   "source": [
    "from pprint import pprint\n",
    "\n",
    "y = torch.tensor([0,1,2])\n",
    "yy = torch.tensor([[1,0,0],[0,1,0], [0,0,1]])\n",
    "pprint(logit)\n",
    "pprint(logit.shape)\n",
    "\n",
    "pprint(y)\n",
    "pprint(y.squeeze())"
   ]
  },
  {
   "cell_type": "code",
   "execution_count": 258,
   "id": "3a680680",
   "metadata": {},
   "outputs": [],
   "source": [
    "loss = nll(logit, y)"
   ]
  },
  {
   "cell_type": "code",
   "execution_count": 259,
   "id": "5898ce4a",
   "metadata": {},
   "outputs": [
    {
     "data": {
      "text/plain": [
       "tensor(1.1370, grad_fn=<NllLossBackward>)"
      ]
     },
     "execution_count": 259,
     "metadata": {},
     "output_type": "execute_result"
    }
   ],
   "source": [
    "loss"
   ]
  },
  {
   "cell_type": "code",
   "execution_count": 260,
   "id": "64634552",
   "metadata": {},
   "outputs": [
    {
     "ename": "RuntimeError",
     "evalue": "1D target tensor expected, multi-target not supported",
     "output_type": "error",
     "traceback": [
      "\u001b[1;31m---------------------------------------------------------------------------\u001b[0m",
      "\u001b[1;31mRuntimeError\u001b[0m                              Traceback (most recent call last)",
      "\u001b[1;32m~\\AppData\\Local\\Temp/ipykernel_10284/4062115211.py\u001b[0m in \u001b[0;36m<module>\u001b[1;34m\u001b[0m\n\u001b[1;32m----> 1\u001b[1;33m \u001b[0mloss2\u001b[0m \u001b[1;33m=\u001b[0m \u001b[0mnll\u001b[0m\u001b[1;33m(\u001b[0m\u001b[0mlogit\u001b[0m\u001b[1;33m,\u001b[0m \u001b[0myy\u001b[0m\u001b[1;33m)\u001b[0m\u001b[1;33m\u001b[0m\u001b[1;33m\u001b[0m\u001b[0m\n\u001b[0m",
      "\u001b[1;32m~\\AppData\\Local\\Temp/ipykernel_10284/1139320838.py\u001b[0m in \u001b[0;36mnll\u001b[1;34m(logits, y, reduction)\u001b[0m\n\u001b[0;32m      1\u001b[0m \u001b[1;31m# NLL in EIIL paper\u001b[0m\u001b[1;33m\u001b[0m\u001b[1;33m\u001b[0m\u001b[1;33m\u001b[0m\u001b[0m\n\u001b[0;32m      2\u001b[0m \u001b[1;32mdef\u001b[0m \u001b[0mnll\u001b[0m \u001b[1;33m(\u001b[0m\u001b[0mlogits\u001b[0m\u001b[1;33m,\u001b[0m \u001b[0my\u001b[0m\u001b[1;33m,\u001b[0m \u001b[0mreduction\u001b[0m \u001b[1;33m=\u001b[0m \u001b[1;34m'mean'\u001b[0m\u001b[1;33m)\u001b[0m\u001b[1;33m:\u001b[0m\u001b[1;33m\u001b[0m\u001b[1;33m\u001b[0m\u001b[0m\n\u001b[1;32m----> 3\u001b[1;33m     \u001b[1;32mreturn\u001b[0m \u001b[0mnn\u001b[0m\u001b[1;33m.\u001b[0m\u001b[0mfunctional\u001b[0m\u001b[1;33m.\u001b[0m\u001b[0mcross_entropy\u001b[0m\u001b[1;33m(\u001b[0m\u001b[0mlogits\u001b[0m\u001b[1;33m,\u001b[0m \u001b[0my\u001b[0m\u001b[1;33m,\u001b[0m \u001b[0mreduction\u001b[0m\u001b[1;33m=\u001b[0m\u001b[0mreduction\u001b[0m\u001b[1;33m)\u001b[0m\u001b[1;33m\u001b[0m\u001b[1;33m\u001b[0m\u001b[0m\n\u001b[0m\u001b[0;32m      4\u001b[0m \u001b[1;33m\u001b[0m\u001b[0m\n\u001b[0;32m      5\u001b[0m \u001b[1;32mclass\u001b[0m \u001b[0mMLP\u001b[0m\u001b[1;33m(\u001b[0m\u001b[0mnn\u001b[0m\u001b[1;33m.\u001b[0m\u001b[0mModule\u001b[0m\u001b[1;33m)\u001b[0m\u001b[1;33m:\u001b[0m\u001b[1;33m\u001b[0m\u001b[1;33m\u001b[0m\u001b[0m\n",
      "\u001b[1;32m~\\anaconda3\\envs\\py38\\lib\\site-packages\\torch\\nn\\functional.py\u001b[0m in \u001b[0;36mcross_entropy\u001b[1;34m(input, target, weight, size_average, ignore_index, reduce, reduction)\u001b[0m\n\u001b[0;32m   2466\u001b[0m     \u001b[1;32mif\u001b[0m \u001b[0msize_average\u001b[0m \u001b[1;32mis\u001b[0m \u001b[1;32mnot\u001b[0m \u001b[1;32mNone\u001b[0m \u001b[1;32mor\u001b[0m \u001b[0mreduce\u001b[0m \u001b[1;32mis\u001b[0m \u001b[1;32mnot\u001b[0m \u001b[1;32mNone\u001b[0m\u001b[1;33m:\u001b[0m\u001b[1;33m\u001b[0m\u001b[1;33m\u001b[0m\u001b[0m\n\u001b[0;32m   2467\u001b[0m         \u001b[0mreduction\u001b[0m \u001b[1;33m=\u001b[0m \u001b[0m_Reduction\u001b[0m\u001b[1;33m.\u001b[0m\u001b[0mlegacy_get_string\u001b[0m\u001b[1;33m(\u001b[0m\u001b[0msize_average\u001b[0m\u001b[1;33m,\u001b[0m \u001b[0mreduce\u001b[0m\u001b[1;33m)\u001b[0m\u001b[1;33m\u001b[0m\u001b[1;33m\u001b[0m\u001b[0m\n\u001b[1;32m-> 2468\u001b[1;33m     \u001b[1;32mreturn\u001b[0m \u001b[0mnll_loss\u001b[0m\u001b[1;33m(\u001b[0m\u001b[0mlog_softmax\u001b[0m\u001b[1;33m(\u001b[0m\u001b[0minput\u001b[0m\u001b[1;33m,\u001b[0m \u001b[1;36m1\u001b[0m\u001b[1;33m)\u001b[0m\u001b[1;33m,\u001b[0m \u001b[0mtarget\u001b[0m\u001b[1;33m,\u001b[0m \u001b[0mweight\u001b[0m\u001b[1;33m,\u001b[0m \u001b[1;32mNone\u001b[0m\u001b[1;33m,\u001b[0m \u001b[0mignore_index\u001b[0m\u001b[1;33m,\u001b[0m \u001b[1;32mNone\u001b[0m\u001b[1;33m,\u001b[0m \u001b[0mreduction\u001b[0m\u001b[1;33m)\u001b[0m\u001b[1;33m\u001b[0m\u001b[1;33m\u001b[0m\u001b[0m\n\u001b[0m\u001b[0;32m   2469\u001b[0m \u001b[1;33m\u001b[0m\u001b[0m\n\u001b[0;32m   2470\u001b[0m \u001b[1;33m\u001b[0m\u001b[0m\n",
      "\u001b[1;32m~\\anaconda3\\envs\\py38\\lib\\site-packages\\torch\\nn\\functional.py\u001b[0m in \u001b[0;36mnll_loss\u001b[1;34m(input, target, weight, size_average, ignore_index, reduce, reduction)\u001b[0m\n\u001b[0;32m   2262\u001b[0m                          .format(input.size(0), target.size(0)))\n\u001b[0;32m   2263\u001b[0m     \u001b[1;32mif\u001b[0m \u001b[0mdim\u001b[0m \u001b[1;33m==\u001b[0m \u001b[1;36m2\u001b[0m\u001b[1;33m:\u001b[0m\u001b[1;33m\u001b[0m\u001b[1;33m\u001b[0m\u001b[0m\n\u001b[1;32m-> 2264\u001b[1;33m         \u001b[0mret\u001b[0m \u001b[1;33m=\u001b[0m \u001b[0mtorch\u001b[0m\u001b[1;33m.\u001b[0m\u001b[0m_C\u001b[0m\u001b[1;33m.\u001b[0m\u001b[0m_nn\u001b[0m\u001b[1;33m.\u001b[0m\u001b[0mnll_loss\u001b[0m\u001b[1;33m(\u001b[0m\u001b[0minput\u001b[0m\u001b[1;33m,\u001b[0m \u001b[0mtarget\u001b[0m\u001b[1;33m,\u001b[0m \u001b[0mweight\u001b[0m\u001b[1;33m,\u001b[0m \u001b[0m_Reduction\u001b[0m\u001b[1;33m.\u001b[0m\u001b[0mget_enum\u001b[0m\u001b[1;33m(\u001b[0m\u001b[0mreduction\u001b[0m\u001b[1;33m)\u001b[0m\u001b[1;33m,\u001b[0m \u001b[0mignore_index\u001b[0m\u001b[1;33m)\u001b[0m\u001b[1;33m\u001b[0m\u001b[1;33m\u001b[0m\u001b[0m\n\u001b[0m\u001b[0;32m   2265\u001b[0m     \u001b[1;32melif\u001b[0m \u001b[0mdim\u001b[0m \u001b[1;33m==\u001b[0m \u001b[1;36m4\u001b[0m\u001b[1;33m:\u001b[0m\u001b[1;33m\u001b[0m\u001b[1;33m\u001b[0m\u001b[0m\n\u001b[0;32m   2266\u001b[0m         \u001b[0mret\u001b[0m \u001b[1;33m=\u001b[0m \u001b[0mtorch\u001b[0m\u001b[1;33m.\u001b[0m\u001b[0m_C\u001b[0m\u001b[1;33m.\u001b[0m\u001b[0m_nn\u001b[0m\u001b[1;33m.\u001b[0m\u001b[0mnll_loss2d\u001b[0m\u001b[1;33m(\u001b[0m\u001b[0minput\u001b[0m\u001b[1;33m,\u001b[0m \u001b[0mtarget\u001b[0m\u001b[1;33m,\u001b[0m \u001b[0mweight\u001b[0m\u001b[1;33m,\u001b[0m \u001b[0m_Reduction\u001b[0m\u001b[1;33m.\u001b[0m\u001b[0mget_enum\u001b[0m\u001b[1;33m(\u001b[0m\u001b[0mreduction\u001b[0m\u001b[1;33m)\u001b[0m\u001b[1;33m,\u001b[0m \u001b[0mignore_index\u001b[0m\u001b[1;33m)\u001b[0m\u001b[1;33m\u001b[0m\u001b[1;33m\u001b[0m\u001b[0m\n",
      "\u001b[1;31mRuntimeError\u001b[0m: 1D target tensor expected, multi-target not supported"
     ]
    }
   ],
   "source": [
    "loss2 = nll(logit, yy)"
   ]
  },
  {
   "cell_type": "code",
   "execution_count": 276,
   "id": "0301266e",
   "metadata": {},
   "outputs": [
    {
     "ename": "ValueError",
     "evalue": "Target size (torch.Size([3])) must be the same as input size (torch.Size([3, 3]))",
     "output_type": "error",
     "traceback": [
      "\u001b[1;31m---------------------------------------------------------------------------\u001b[0m",
      "\u001b[1;31mValueError\u001b[0m                                Traceback (most recent call last)",
      "\u001b[1;32m~\\AppData\\Local\\Temp/ipykernel_10284/1779176577.py\u001b[0m in \u001b[0;36m<module>\u001b[1;34m\u001b[0m\n\u001b[0;32m      2\u001b[0m     \u001b[1;32mreturn\u001b[0m \u001b[0mnn\u001b[0m\u001b[1;33m.\u001b[0m\u001b[0mfunctional\u001b[0m\u001b[1;33m.\u001b[0m\u001b[0mbinary_cross_entropy_with_logits\u001b[0m\u001b[1;33m(\u001b[0m\u001b[0mlogit\u001b[0m\u001b[1;33m,\u001b[0m \u001b[0my\u001b[0m\u001b[1;33m,\u001b[0m \u001b[0mreduction\u001b[0m\u001b[1;33m=\u001b[0m\u001b[0mreduction\u001b[0m\u001b[1;33m)\u001b[0m\u001b[1;33m\u001b[0m\u001b[1;33m\u001b[0m\u001b[0m\n\u001b[0;32m      3\u001b[0m \u001b[1;33m\u001b[0m\u001b[0m\n\u001b[1;32m----> 4\u001b[1;33m \u001b[0mloss3\u001b[0m \u001b[1;33m=\u001b[0m \u001b[0mBCE\u001b[0m\u001b[1;33m(\u001b[0m\u001b[0mlogit\u001b[0m\u001b[1;33m,\u001b[0m\u001b[0my\u001b[0m\u001b[1;33m)\u001b[0m\u001b[1;33m\u001b[0m\u001b[1;33m\u001b[0m\u001b[0m\n\u001b[0m",
      "\u001b[1;32m~\\AppData\\Local\\Temp/ipykernel_10284/1779176577.py\u001b[0m in \u001b[0;36mBCE\u001b[1;34m(logit, y, reduction)\u001b[0m\n\u001b[0;32m      1\u001b[0m \u001b[1;32mdef\u001b[0m \u001b[0mBCE\u001b[0m\u001b[1;33m(\u001b[0m\u001b[0mlogit\u001b[0m\u001b[1;33m,\u001b[0m \u001b[0my\u001b[0m\u001b[1;33m,\u001b[0m \u001b[0mreduction\u001b[0m \u001b[1;33m=\u001b[0m \u001b[1;34m'mean'\u001b[0m\u001b[1;33m)\u001b[0m\u001b[1;33m:\u001b[0m\u001b[1;33m\u001b[0m\u001b[1;33m\u001b[0m\u001b[0m\n\u001b[1;32m----> 2\u001b[1;33m     \u001b[1;32mreturn\u001b[0m \u001b[0mnn\u001b[0m\u001b[1;33m.\u001b[0m\u001b[0mfunctional\u001b[0m\u001b[1;33m.\u001b[0m\u001b[0mbinary_cross_entropy_with_logits\u001b[0m\u001b[1;33m(\u001b[0m\u001b[0mlogit\u001b[0m\u001b[1;33m,\u001b[0m \u001b[0my\u001b[0m\u001b[1;33m,\u001b[0m \u001b[0mreduction\u001b[0m\u001b[1;33m=\u001b[0m\u001b[0mreduction\u001b[0m\u001b[1;33m)\u001b[0m\u001b[1;33m\u001b[0m\u001b[1;33m\u001b[0m\u001b[0m\n\u001b[0m\u001b[0;32m      3\u001b[0m \u001b[1;33m\u001b[0m\u001b[0m\n\u001b[0;32m      4\u001b[0m \u001b[0mloss3\u001b[0m \u001b[1;33m=\u001b[0m \u001b[0mBCE\u001b[0m\u001b[1;33m(\u001b[0m\u001b[0mlogit\u001b[0m\u001b[1;33m,\u001b[0m\u001b[0my\u001b[0m\u001b[1;33m)\u001b[0m\u001b[1;33m\u001b[0m\u001b[1;33m\u001b[0m\u001b[0m\n",
      "\u001b[1;32m~\\anaconda3\\envs\\py38\\lib\\site-packages\\torch\\nn\\functional.py\u001b[0m in \u001b[0;36mbinary_cross_entropy_with_logits\u001b[1;34m(input, target, weight, size_average, reduce, reduction, pos_weight)\u001b[0m\n\u001b[0;32m   2578\u001b[0m \u001b[1;33m\u001b[0m\u001b[0m\n\u001b[0;32m   2579\u001b[0m     \u001b[1;32mif\u001b[0m \u001b[1;32mnot\u001b[0m \u001b[1;33m(\u001b[0m\u001b[0mtarget\u001b[0m\u001b[1;33m.\u001b[0m\u001b[0msize\u001b[0m\u001b[1;33m(\u001b[0m\u001b[1;33m)\u001b[0m \u001b[1;33m==\u001b[0m \u001b[0minput\u001b[0m\u001b[1;33m.\u001b[0m\u001b[0msize\u001b[0m\u001b[1;33m(\u001b[0m\u001b[1;33m)\u001b[0m\u001b[1;33m)\u001b[0m\u001b[1;33m:\u001b[0m\u001b[1;33m\u001b[0m\u001b[1;33m\u001b[0m\u001b[0m\n\u001b[1;32m-> 2580\u001b[1;33m         \u001b[1;32mraise\u001b[0m \u001b[0mValueError\u001b[0m\u001b[1;33m(\u001b[0m\u001b[1;34m\"Target size ({}) must be the same as input size ({})\"\u001b[0m\u001b[1;33m.\u001b[0m\u001b[0mformat\u001b[0m\u001b[1;33m(\u001b[0m\u001b[0mtarget\u001b[0m\u001b[1;33m.\u001b[0m\u001b[0msize\u001b[0m\u001b[1;33m(\u001b[0m\u001b[1;33m)\u001b[0m\u001b[1;33m,\u001b[0m \u001b[0minput\u001b[0m\u001b[1;33m.\u001b[0m\u001b[0msize\u001b[0m\u001b[1;33m(\u001b[0m\u001b[1;33m)\u001b[0m\u001b[1;33m)\u001b[0m\u001b[1;33m)\u001b[0m\u001b[1;33m\u001b[0m\u001b[1;33m\u001b[0m\u001b[0m\n\u001b[0m\u001b[0;32m   2581\u001b[0m \u001b[1;33m\u001b[0m\u001b[0m\n\u001b[0;32m   2582\u001b[0m     \u001b[1;32mreturn\u001b[0m \u001b[0mtorch\u001b[0m\u001b[1;33m.\u001b[0m\u001b[0mbinary_cross_entropy_with_logits\u001b[0m\u001b[1;33m(\u001b[0m\u001b[0minput\u001b[0m\u001b[1;33m,\u001b[0m \u001b[0mtarget\u001b[0m\u001b[1;33m,\u001b[0m \u001b[0mweight\u001b[0m\u001b[1;33m,\u001b[0m \u001b[0mpos_weight\u001b[0m\u001b[1;33m,\u001b[0m \u001b[0mreduction_enum\u001b[0m\u001b[1;33m)\u001b[0m\u001b[1;33m\u001b[0m\u001b[1;33m\u001b[0m\u001b[0m\n",
      "\u001b[1;31mValueError\u001b[0m: Target size (torch.Size([3])) must be the same as input size (torch.Size([3, 3]))"
     ]
    }
   ],
   "source": [
    "def BCE(logit, y, reduction = 'mean'):\n",
    "    return nn.functional.binary_cross_entropy_with_logits(logit, y, reduction=reduction)\n",
    "\n",
    "loss3 = BCE(logit,y)"
   ]
  },
  {
   "cell_type": "code",
   "execution_count": 287,
   "id": "1544792f",
   "metadata": {},
   "outputs": [
    {
     "ename": "RuntimeError",
     "evalue": "result type Float can't be cast to the desired output type Long",
     "output_type": "error",
     "traceback": [
      "\u001b[1;31m---------------------------------------------------------------------------\u001b[0m",
      "\u001b[1;31mRuntimeError\u001b[0m                              Traceback (most recent call last)",
      "\u001b[1;32m~\\AppData\\Local\\Temp/ipykernel_10284/2495515374.py\u001b[0m in \u001b[0;36m<module>\u001b[1;34m\u001b[0m\n\u001b[0;32m      2\u001b[0m \u001b[0moutput2\u001b[0m \u001b[1;33m=\u001b[0m \u001b[0mmodel2\u001b[0m\u001b[1;33m(\u001b[0m\u001b[0mx\u001b[0m\u001b[1;33m)\u001b[0m\u001b[1;33m\u001b[0m\u001b[1;33m\u001b[0m\u001b[0m\n\u001b[0;32m      3\u001b[0m \u001b[0myyy\u001b[0m \u001b[1;33m=\u001b[0m \u001b[0mtorch\u001b[0m\u001b[1;33m.\u001b[0m\u001b[0mtensor\u001b[0m\u001b[1;33m(\u001b[0m\u001b[1;33m[\u001b[0m\u001b[1;33m[\u001b[0m\u001b[1;36m0\u001b[0m\u001b[1;33m,\u001b[0m\u001b[1;36m1\u001b[0m\u001b[1;33m]\u001b[0m\u001b[1;33m,\u001b[0m\u001b[1;33m[\u001b[0m\u001b[1;36m0\u001b[0m\u001b[1;33m,\u001b[0m\u001b[1;36m1\u001b[0m\u001b[1;33m]\u001b[0m\u001b[1;33m,\u001b[0m\u001b[1;33m[\u001b[0m\u001b[1;36m1\u001b[0m\u001b[1;33m,\u001b[0m\u001b[1;36m0\u001b[0m\u001b[1;33m]\u001b[0m\u001b[1;33m]\u001b[0m\u001b[1;33m)\u001b[0m\u001b[1;33m\u001b[0m\u001b[1;33m\u001b[0m\u001b[0m\n\u001b[1;32m----> 4\u001b[1;33m \u001b[0mloss3\u001b[0m \u001b[1;33m=\u001b[0m \u001b[0mBCE\u001b[0m\u001b[1;33m(\u001b[0m\u001b[0moutput2\u001b[0m\u001b[1;33m,\u001b[0m \u001b[0myyy\u001b[0m\u001b[1;33m)\u001b[0m\u001b[1;33m\u001b[0m\u001b[1;33m\u001b[0m\u001b[0m\n\u001b[0m",
      "\u001b[1;32m~\\AppData\\Local\\Temp/ipykernel_10284/1779176577.py\u001b[0m in \u001b[0;36mBCE\u001b[1;34m(logit, y, reduction)\u001b[0m\n\u001b[0;32m      1\u001b[0m \u001b[1;32mdef\u001b[0m \u001b[0mBCE\u001b[0m\u001b[1;33m(\u001b[0m\u001b[0mlogit\u001b[0m\u001b[1;33m,\u001b[0m \u001b[0my\u001b[0m\u001b[1;33m,\u001b[0m \u001b[0mreduction\u001b[0m \u001b[1;33m=\u001b[0m \u001b[1;34m'mean'\u001b[0m\u001b[1;33m)\u001b[0m\u001b[1;33m:\u001b[0m\u001b[1;33m\u001b[0m\u001b[1;33m\u001b[0m\u001b[0m\n\u001b[1;32m----> 2\u001b[1;33m     \u001b[1;32mreturn\u001b[0m \u001b[0mnn\u001b[0m\u001b[1;33m.\u001b[0m\u001b[0mfunctional\u001b[0m\u001b[1;33m.\u001b[0m\u001b[0mbinary_cross_entropy_with_logits\u001b[0m\u001b[1;33m(\u001b[0m\u001b[0mlogit\u001b[0m\u001b[1;33m,\u001b[0m \u001b[0my\u001b[0m\u001b[1;33m,\u001b[0m \u001b[0mreduction\u001b[0m\u001b[1;33m=\u001b[0m\u001b[0mreduction\u001b[0m\u001b[1;33m)\u001b[0m\u001b[1;33m\u001b[0m\u001b[1;33m\u001b[0m\u001b[0m\n\u001b[0m\u001b[0;32m      3\u001b[0m \u001b[1;33m\u001b[0m\u001b[0m\n\u001b[0;32m      4\u001b[0m \u001b[0mloss3\u001b[0m \u001b[1;33m=\u001b[0m \u001b[0mBCE\u001b[0m\u001b[1;33m(\u001b[0m\u001b[0mlogit\u001b[0m\u001b[1;33m,\u001b[0m\u001b[0my\u001b[0m\u001b[1;33m)\u001b[0m\u001b[1;33m\u001b[0m\u001b[1;33m\u001b[0m\u001b[0m\n",
      "\u001b[1;32m~\\anaconda3\\envs\\py38\\lib\\site-packages\\torch\\nn\\functional.py\u001b[0m in \u001b[0;36mbinary_cross_entropy_with_logits\u001b[1;34m(input, target, weight, size_average, reduce, reduction, pos_weight)\u001b[0m\n\u001b[0;32m   2580\u001b[0m         \u001b[1;32mraise\u001b[0m \u001b[0mValueError\u001b[0m\u001b[1;33m(\u001b[0m\u001b[1;34m\"Target size ({}) must be the same as input size ({})\"\u001b[0m\u001b[1;33m.\u001b[0m\u001b[0mformat\u001b[0m\u001b[1;33m(\u001b[0m\u001b[0mtarget\u001b[0m\u001b[1;33m.\u001b[0m\u001b[0msize\u001b[0m\u001b[1;33m(\u001b[0m\u001b[1;33m)\u001b[0m\u001b[1;33m,\u001b[0m \u001b[0minput\u001b[0m\u001b[1;33m.\u001b[0m\u001b[0msize\u001b[0m\u001b[1;33m(\u001b[0m\u001b[1;33m)\u001b[0m\u001b[1;33m)\u001b[0m\u001b[1;33m)\u001b[0m\u001b[1;33m\u001b[0m\u001b[1;33m\u001b[0m\u001b[0m\n\u001b[0;32m   2581\u001b[0m \u001b[1;33m\u001b[0m\u001b[0m\n\u001b[1;32m-> 2582\u001b[1;33m     \u001b[1;32mreturn\u001b[0m \u001b[0mtorch\u001b[0m\u001b[1;33m.\u001b[0m\u001b[0mbinary_cross_entropy_with_logits\u001b[0m\u001b[1;33m(\u001b[0m\u001b[0minput\u001b[0m\u001b[1;33m,\u001b[0m \u001b[0mtarget\u001b[0m\u001b[1;33m,\u001b[0m \u001b[0mweight\u001b[0m\u001b[1;33m,\u001b[0m \u001b[0mpos_weight\u001b[0m\u001b[1;33m,\u001b[0m \u001b[0mreduction_enum\u001b[0m\u001b[1;33m)\u001b[0m\u001b[1;33m\u001b[0m\u001b[1;33m\u001b[0m\u001b[0m\n\u001b[0m\u001b[0;32m   2583\u001b[0m \u001b[1;33m\u001b[0m\u001b[0m\n\u001b[0;32m   2584\u001b[0m \u001b[1;33m\u001b[0m\u001b[0m\n",
      "\u001b[1;31mRuntimeError\u001b[0m: result type Float can't be cast to the desired output type Long"
     ]
    }
   ],
   "source": [
    "model2 = MLP(588, 390, 2)\n",
    "output2 = model2(x)\n",
    "yyy = torch.tensor([[0,1],[0,1],[1,0]])\n",
    "loss3 = BCE(output2, yyy)"
   ]
  },
  {
   "cell_type": "code",
   "execution_count": 278,
   "id": "56060152",
   "metadata": {},
   "outputs": [],
   "source": [
    "def CE(logit, y, reduction = 'mean'):\n",
    "    return nn.CrossEntropyLoss(logit, y, reduction=reduction)"
   ]
  },
  {
   "cell_type": "code",
   "execution_count": 279,
   "id": "665fa1db",
   "metadata": {},
   "outputs": [
    {
     "ename": "RuntimeError",
     "evalue": "Boolean value of Tensor with more than one value is ambiguous",
     "output_type": "error",
     "traceback": [
      "\u001b[1;31m---------------------------------------------------------------------------\u001b[0m",
      "\u001b[1;31mRuntimeError\u001b[0m                              Traceback (most recent call last)",
      "\u001b[1;32m~\\AppData\\Local\\Temp/ipykernel_10284/1473896328.py\u001b[0m in \u001b[0;36m<module>\u001b[1;34m\u001b[0m\n\u001b[1;32m----> 1\u001b[1;33m \u001b[0mloss4\u001b[0m\u001b[1;33m=\u001b[0m\u001b[0mCE\u001b[0m\u001b[1;33m(\u001b[0m\u001b[0mlogit\u001b[0m\u001b[1;33m,\u001b[0m\u001b[0my\u001b[0m\u001b[1;33m)\u001b[0m\u001b[1;33m\u001b[0m\u001b[1;33m\u001b[0m\u001b[0m\n\u001b[0m",
      "\u001b[1;32m~\\AppData\\Local\\Temp/ipykernel_10284/1156719343.py\u001b[0m in \u001b[0;36mCE\u001b[1;34m(logit, y, reduction)\u001b[0m\n\u001b[0;32m      1\u001b[0m \u001b[1;32mdef\u001b[0m \u001b[0mCE\u001b[0m\u001b[1;33m(\u001b[0m\u001b[0mlogit\u001b[0m\u001b[1;33m,\u001b[0m \u001b[0my\u001b[0m\u001b[1;33m,\u001b[0m \u001b[0mreduction\u001b[0m \u001b[1;33m=\u001b[0m \u001b[1;34m'mean'\u001b[0m\u001b[1;33m)\u001b[0m\u001b[1;33m:\u001b[0m\u001b[1;33m\u001b[0m\u001b[1;33m\u001b[0m\u001b[0m\n\u001b[1;32m----> 2\u001b[1;33m     \u001b[1;32mreturn\u001b[0m \u001b[0mnn\u001b[0m\u001b[1;33m.\u001b[0m\u001b[0mCrossEntropyLoss\u001b[0m\u001b[1;33m(\u001b[0m\u001b[0mlogit\u001b[0m\u001b[1;33m,\u001b[0m \u001b[0my\u001b[0m\u001b[1;33m,\u001b[0m \u001b[0mreduction\u001b[0m\u001b[1;33m=\u001b[0m\u001b[0mreduction\u001b[0m\u001b[1;33m)\u001b[0m\u001b[1;33m\u001b[0m\u001b[1;33m\u001b[0m\u001b[0m\n\u001b[0m",
      "\u001b[1;32m~\\anaconda3\\envs\\py38\\lib\\site-packages\\torch\\nn\\modules\\loss.py\u001b[0m in \u001b[0;36m__init__\u001b[1;34m(self, weight, size_average, ignore_index, reduce, reduction)\u001b[0m\n\u001b[0;32m    955\u001b[0m     def __init__(self, weight: Optional[Tensor] = None, size_average=None, ignore_index: int = -100,\n\u001b[0;32m    956\u001b[0m                  reduce=None, reduction: str = 'mean') -> None:\n\u001b[1;32m--> 957\u001b[1;33m         \u001b[0msuper\u001b[0m\u001b[1;33m(\u001b[0m\u001b[0mCrossEntropyLoss\u001b[0m\u001b[1;33m,\u001b[0m \u001b[0mself\u001b[0m\u001b[1;33m)\u001b[0m\u001b[1;33m.\u001b[0m\u001b[0m__init__\u001b[0m\u001b[1;33m(\u001b[0m\u001b[0mweight\u001b[0m\u001b[1;33m,\u001b[0m \u001b[0msize_average\u001b[0m\u001b[1;33m,\u001b[0m \u001b[0mreduce\u001b[0m\u001b[1;33m,\u001b[0m \u001b[0mreduction\u001b[0m\u001b[1;33m)\u001b[0m\u001b[1;33m\u001b[0m\u001b[1;33m\u001b[0m\u001b[0m\n\u001b[0m\u001b[0;32m    958\u001b[0m         \u001b[0mself\u001b[0m\u001b[1;33m.\u001b[0m\u001b[0mignore_index\u001b[0m \u001b[1;33m=\u001b[0m \u001b[0mignore_index\u001b[0m\u001b[1;33m\u001b[0m\u001b[1;33m\u001b[0m\u001b[0m\n\u001b[0;32m    959\u001b[0m \u001b[1;33m\u001b[0m\u001b[0m\n",
      "\u001b[1;32m~\\anaconda3\\envs\\py38\\lib\\site-packages\\torch\\nn\\modules\\loss.py\u001b[0m in \u001b[0;36m__init__\u001b[1;34m(self, weight, size_average, reduce, reduction)\u001b[0m\n\u001b[0;32m     23\u001b[0m \u001b[1;32mclass\u001b[0m \u001b[0m_WeightedLoss\u001b[0m\u001b[1;33m(\u001b[0m\u001b[0m_Loss\u001b[0m\u001b[1;33m)\u001b[0m\u001b[1;33m:\u001b[0m\u001b[1;33m\u001b[0m\u001b[1;33m\u001b[0m\u001b[0m\n\u001b[0;32m     24\u001b[0m     \u001b[1;32mdef\u001b[0m \u001b[0m__init__\u001b[0m\u001b[1;33m(\u001b[0m\u001b[0mself\u001b[0m\u001b[1;33m,\u001b[0m \u001b[0mweight\u001b[0m\u001b[1;33m:\u001b[0m \u001b[0mOptional\u001b[0m\u001b[1;33m[\u001b[0m\u001b[0mTensor\u001b[0m\u001b[1;33m]\u001b[0m \u001b[1;33m=\u001b[0m \u001b[1;32mNone\u001b[0m\u001b[1;33m,\u001b[0m \u001b[0msize_average\u001b[0m\u001b[1;33m=\u001b[0m\u001b[1;32mNone\u001b[0m\u001b[1;33m,\u001b[0m \u001b[0mreduce\u001b[0m\u001b[1;33m=\u001b[0m\u001b[1;32mNone\u001b[0m\u001b[1;33m,\u001b[0m \u001b[0mreduction\u001b[0m\u001b[1;33m:\u001b[0m \u001b[0mstr\u001b[0m \u001b[1;33m=\u001b[0m \u001b[1;34m'mean'\u001b[0m\u001b[1;33m)\u001b[0m \u001b[1;33m->\u001b[0m \u001b[1;32mNone\u001b[0m\u001b[1;33m:\u001b[0m\u001b[1;33m\u001b[0m\u001b[1;33m\u001b[0m\u001b[0m\n\u001b[1;32m---> 25\u001b[1;33m         \u001b[0msuper\u001b[0m\u001b[1;33m(\u001b[0m\u001b[0m_WeightedLoss\u001b[0m\u001b[1;33m,\u001b[0m \u001b[0mself\u001b[0m\u001b[1;33m)\u001b[0m\u001b[1;33m.\u001b[0m\u001b[0m__init__\u001b[0m\u001b[1;33m(\u001b[0m\u001b[0msize_average\u001b[0m\u001b[1;33m,\u001b[0m \u001b[0mreduce\u001b[0m\u001b[1;33m,\u001b[0m \u001b[0mreduction\u001b[0m\u001b[1;33m)\u001b[0m\u001b[1;33m\u001b[0m\u001b[1;33m\u001b[0m\u001b[0m\n\u001b[0m\u001b[0;32m     26\u001b[0m         \u001b[0mself\u001b[0m\u001b[1;33m.\u001b[0m\u001b[0mregister_buffer\u001b[0m\u001b[1;33m(\u001b[0m\u001b[1;34m'weight'\u001b[0m\u001b[1;33m,\u001b[0m \u001b[0mweight\u001b[0m\u001b[1;33m)\u001b[0m\u001b[1;33m\u001b[0m\u001b[1;33m\u001b[0m\u001b[0m\n\u001b[0;32m     27\u001b[0m \u001b[1;33m\u001b[0m\u001b[0m\n",
      "\u001b[1;32m~\\anaconda3\\envs\\py38\\lib\\site-packages\\torch\\nn\\modules\\loss.py\u001b[0m in \u001b[0;36m__init__\u001b[1;34m(self, size_average, reduce, reduction)\u001b[0m\n\u001b[0;32m     16\u001b[0m         \u001b[0msuper\u001b[0m\u001b[1;33m(\u001b[0m\u001b[0m_Loss\u001b[0m\u001b[1;33m,\u001b[0m \u001b[0mself\u001b[0m\u001b[1;33m)\u001b[0m\u001b[1;33m.\u001b[0m\u001b[0m__init__\u001b[0m\u001b[1;33m(\u001b[0m\u001b[1;33m)\u001b[0m\u001b[1;33m\u001b[0m\u001b[1;33m\u001b[0m\u001b[0m\n\u001b[0;32m     17\u001b[0m         \u001b[1;32mif\u001b[0m \u001b[0msize_average\u001b[0m \u001b[1;32mis\u001b[0m \u001b[1;32mnot\u001b[0m \u001b[1;32mNone\u001b[0m \u001b[1;32mor\u001b[0m \u001b[0mreduce\u001b[0m \u001b[1;32mis\u001b[0m \u001b[1;32mnot\u001b[0m \u001b[1;32mNone\u001b[0m\u001b[1;33m:\u001b[0m\u001b[1;33m\u001b[0m\u001b[1;33m\u001b[0m\u001b[0m\n\u001b[1;32m---> 18\u001b[1;33m             \u001b[0mself\u001b[0m\u001b[1;33m.\u001b[0m\u001b[0mreduction\u001b[0m \u001b[1;33m=\u001b[0m \u001b[0m_Reduction\u001b[0m\u001b[1;33m.\u001b[0m\u001b[0mlegacy_get_string\u001b[0m\u001b[1;33m(\u001b[0m\u001b[0msize_average\u001b[0m\u001b[1;33m,\u001b[0m \u001b[0mreduce\u001b[0m\u001b[1;33m)\u001b[0m\u001b[1;33m\u001b[0m\u001b[1;33m\u001b[0m\u001b[0m\n\u001b[0m\u001b[0;32m     19\u001b[0m         \u001b[1;32melse\u001b[0m\u001b[1;33m:\u001b[0m\u001b[1;33m\u001b[0m\u001b[1;33m\u001b[0m\u001b[0m\n\u001b[0;32m     20\u001b[0m             \u001b[0mself\u001b[0m\u001b[1;33m.\u001b[0m\u001b[0mreduction\u001b[0m \u001b[1;33m=\u001b[0m \u001b[0mreduction\u001b[0m\u001b[1;33m\u001b[0m\u001b[1;33m\u001b[0m\u001b[0m\n",
      "\u001b[1;32m~\\anaconda3\\envs\\py38\\lib\\site-packages\\torch\\nn\\_reduction.py\u001b[0m in \u001b[0;36mlegacy_get_string\u001b[1;34m(size_average, reduce, emit_warning)\u001b[0m\n\u001b[0;32m     35\u001b[0m         \u001b[0mreduce\u001b[0m \u001b[1;33m=\u001b[0m \u001b[1;32mTrue\u001b[0m\u001b[1;33m\u001b[0m\u001b[1;33m\u001b[0m\u001b[0m\n\u001b[0;32m     36\u001b[0m \u001b[1;33m\u001b[0m\u001b[0m\n\u001b[1;32m---> 37\u001b[1;33m     \u001b[1;32mif\u001b[0m \u001b[0msize_average\u001b[0m \u001b[1;32mand\u001b[0m \u001b[0mreduce\u001b[0m\u001b[1;33m:\u001b[0m\u001b[1;33m\u001b[0m\u001b[1;33m\u001b[0m\u001b[0m\n\u001b[0m\u001b[0;32m     38\u001b[0m         \u001b[0mret\u001b[0m \u001b[1;33m=\u001b[0m \u001b[1;34m'mean'\u001b[0m\u001b[1;33m\u001b[0m\u001b[1;33m\u001b[0m\u001b[0m\n\u001b[0;32m     39\u001b[0m     \u001b[1;32melif\u001b[0m \u001b[0mreduce\u001b[0m\u001b[1;33m:\u001b[0m\u001b[1;33m\u001b[0m\u001b[1;33m\u001b[0m\u001b[0m\n",
      "\u001b[1;31mRuntimeError\u001b[0m: Boolean value of Tensor with more than one value is ambiguous"
     ]
    }
   ],
   "source": [
    "loss4=CE(logit,y)"
   ]
  },
  {
   "cell_type": "code",
   "execution_count": 270,
   "id": "0c32fa63",
   "metadata": {},
   "outputs": [],
   "source": [
    "losss = nn.CrossEntropyLoss()"
   ]
  },
  {
   "cell_type": "code",
   "execution_count": 274,
   "id": "f0ddeed5",
   "metadata": {},
   "outputs": [],
   "source": [
    "out = losss(logit,y)"
   ]
  },
  {
   "cell_type": "code",
   "execution_count": 272,
   "id": "5a5e742e",
   "metadata": {},
   "outputs": [
    {
     "data": {
      "text/plain": [
       "tensor(1.1370, grad_fn=<NllLossBackward>)"
      ]
     },
     "execution_count": 272,
     "metadata": {},
     "output_type": "execute_result"
    }
   ],
   "source": [
    "out"
   ]
  },
  {
   "cell_type": "code",
   "execution_count": 296,
   "id": "c2a5a69e",
   "metadata": {},
   "outputs": [],
   "source": [
    "t = torch.randn(3).random_(3)"
   ]
  },
  {
   "cell_type": "code",
   "execution_count": 304,
   "id": "d60bf71c",
   "metadata": {},
   "outputs": [
    {
     "name": "stdout",
     "output_type": "stream",
     "text": [
      "tensor([0., 1., 0.])\n",
      "tensor([0., 0., 1.])\n",
      "tensor([0., 1., 1.])\n",
      "tensor([1., 0., 1.])\n",
      "tensor([0., 1., 1.])\n",
      "tensor([1., 0., 0.])\n",
      "tensor([1., 1., 1.])\n",
      "tensor([1., 0., 1.])\n",
      "tensor([1., 0., 1.])\n",
      "tensor([1., 1., 1.])\n"
     ]
    }
   ],
   "source": [
    "for i in range(10):\n",
    "    t = torch.randn(3).random_(2)\n",
    "    print(t)"
   ]
  },
  {
   "cell_type": "code",
   "execution_count": 305,
   "id": "cc03ff85",
   "metadata": {},
   "outputs": [],
   "source": [
    "k = torch.randn(3)"
   ]
  },
  {
   "cell_type": "code",
   "execution_count": 306,
   "id": "28cb8935",
   "metadata": {},
   "outputs": [
    {
     "data": {
      "text/plain": [
       "tensor([-0.1369,  0.1305,  0.7945])"
      ]
     },
     "execution_count": 306,
     "metadata": {},
     "output_type": "execute_result"
    }
   ],
   "source": [
    "k"
   ]
  },
  {
   "cell_type": "code",
   "execution_count": 308,
   "id": "c1f765a3",
   "metadata": {},
   "outputs": [],
   "source": [
    "from torchvision import datasets\n",
    "\n",
    "mnist = datasets.MNIST('~/datasets/mnist')"
   ]
  },
  {
   "cell_type": "code",
   "execution_count": 323,
   "id": "f0e63b87",
   "metadata": {},
   "outputs": [
    {
     "data": {
      "text/plain": [
       "tensor([7, 3, 4,  ..., 5, 6, 8])"
      ]
     },
     "execution_count": 323,
     "metadata": {},
     "output_type": "execute_result"
    }
   ],
   "source": [
    "ttarget = mnist.targets[5000:]\n",
    "ttarget"
   ]
  },
  {
   "cell_type": "code",
   "execution_count": 324,
   "id": "4912d6d8",
   "metadata": {},
   "outputs": [],
   "source": [
    "ttarget = ttarget[:,None]"
   ]
  },
  {
   "cell_type": "code",
   "execution_count": 325,
   "id": "9df9656a",
   "metadata": {},
   "outputs": [
    {
     "data": {
      "text/plain": [
       "tensor([[7],\n",
       "        [3],\n",
       "        [4],\n",
       "        ...,\n",
       "        [5],\n",
       "        [6],\n",
       "        [8]])"
      ]
     },
     "execution_count": 325,
     "metadata": {},
     "output_type": "execute_result"
    }
   ],
   "source": [
    "ttarget"
   ]
  },
  {
   "cell_type": "code",
   "execution_count": 326,
   "id": "bbe12026",
   "metadata": {
    "scrolled": true
   },
   "outputs": [
    {
     "data": {
      "text/plain": [
       "torch.Size([28, 28])"
      ]
     },
     "execution_count": 326,
     "metadata": {},
     "output_type": "execute_result"
    }
   ],
   "source": [
    "mnist.data[0].shape"
   ]
  },
  {
   "cell_type": "code",
   "execution_count": 383,
   "id": "0909306c",
   "metadata": {},
   "outputs": [],
   "source": [
    "inputs = torch.tensor([[1,2,3], [2,3,4],[3,4,5]]).float()\n",
    "target = torch.tensor([0,1,2])\n"
   ]
  },
  {
   "cell_type": "code",
   "execution_count": 384,
   "id": "b44d4015",
   "metadata": {},
   "outputs": [],
   "source": [
    "CE = nn.functional.cross_entropy(inputs, target)"
   ]
  },
  {
   "cell_type": "code",
   "execution_count": 385,
   "id": "5e44f50c",
   "metadata": {},
   "outputs": [
    {
     "data": {
      "text/plain": [
       "tensor(1.4076)"
      ]
     },
     "execution_count": 385,
     "metadata": {},
     "output_type": "execute_result"
    }
   ],
   "source": [
    "CE"
   ]
  },
  {
   "cell_type": "code",
   "execution_count": 369,
   "id": "6b65543c",
   "metadata": {},
   "outputs": [],
   "source": [
    "inputs = torch.tensor([[1],[2],[3]]).float()\n",
    "sig = nn.Sigmoid()\n",
    "sig_value = sig(inputs)\n",
    "target = torch.tensor([0,1,0]).float()\n",
    "target = target[:,None]"
   ]
  },
  {
   "cell_type": "code",
   "execution_count": 365,
   "id": "4755771a",
   "metadata": {},
   "outputs": [],
   "source": [
    "BCE = nn.functional.binary_cross_entropy_with_logits(inputs, target)"
   ]
  },
  {
   "cell_type": "code",
   "execution_count": 366,
   "id": "1b73a213",
   "metadata": {},
   "outputs": [
    {
     "data": {
      "text/plain": [
       "tensor(1.4963)"
      ]
     },
     "execution_count": 366,
     "metadata": {},
     "output_type": "execute_result"
    }
   ],
   "source": [
    "BCE"
   ]
  },
  {
   "cell_type": "code",
   "execution_count": 371,
   "id": "134f42c1",
   "metadata": {},
   "outputs": [],
   "source": [
    "BCE_pure = nn.functional.binary_cross_entropy(sig_value, target)"
   ]
  },
  {
   "cell_type": "code",
   "execution_count": 372,
   "id": "f72de434",
   "metadata": {},
   "outputs": [
    {
     "data": {
      "text/plain": [
       "tensor(1.4963)"
      ]
     },
     "execution_count": 372,
     "metadata": {},
     "output_type": "execute_result"
    }
   ],
   "source": [
    "BCE_pure"
   ]
  },
  {
   "cell_type": "code",
   "execution_count": 376,
   "id": "13b3c101",
   "metadata": {},
   "outputs": [],
   "source": [
    "loss = nn.BCELoss()"
   ]
  },
  {
   "cell_type": "code",
   "execution_count": 377,
   "id": "1f076ceb",
   "metadata": {},
   "outputs": [],
   "source": [
    "BCE_loss = loss(sig_value, target)"
   ]
  },
  {
   "cell_type": "code",
   "execution_count": 378,
   "id": "9ce8a147",
   "metadata": {},
   "outputs": [
    {
     "data": {
      "text/plain": [
       "tensor(1.4963)"
      ]
     },
     "execution_count": 378,
     "metadata": {},
     "output_type": "execute_result"
    }
   ],
   "source": [
    "BCE_loss"
   ]
  },
  {
   "cell_type": "code",
   "execution_count": 379,
   "id": "2997524d",
   "metadata": {},
   "outputs": [],
   "source": [
    "loss_CE = nn.CrossEntropyLoss()"
   ]
  },
  {
   "cell_type": "code",
   "execution_count": 380,
   "id": "0c328486",
   "metadata": {},
   "outputs": [],
   "source": [
    "inputs = torch.tensor([[1,2,3], [2,3,4],[3,4,5]]).float()\n",
    "target = torch.tensor([0,1,2])\n",
    "CE_loss = loss_CE(inputs, target)"
   ]
  },
  {
   "cell_type": "code",
   "execution_count": 382,
   "id": "fb6a1fe2",
   "metadata": {},
   "outputs": [
    {
     "data": {
      "text/plain": [
       "tensor(1.4076)"
      ]
     },
     "execution_count": 382,
     "metadata": {},
     "output_type": "execute_result"
    }
   ],
   "source": [
    "CE_loss"
   ]
  },
  {
   "cell_type": "code",
   "execution_count": 402,
   "id": "f4f7d8b9",
   "metadata": {},
   "outputs": [
    {
     "data": {
      "text/plain": [
       "tensor([0.3133, 0.1269])"
      ]
     },
     "execution_count": 402,
     "metadata": {},
     "output_type": "execute_result"
    }
   ],
   "source": [
    "input_test = torch.tensor([[1,2], [2,0]]).float()\n",
    "target_test = torch.tensor([1,0])\n",
    "loss = nn.functional.cross_entropy(input_test, target_test, reduce = False)\n",
    "loss"
   ]
  },
  {
   "cell_type": "code",
   "execution_count": 405,
   "id": "4492cbd9",
   "metadata": {},
   "outputs": [
    {
     "data": {
      "text/plain": [
       "tensor([[1.3133, 0.3133],\n",
       "        [0.1269, 2.1269]])"
      ]
     },
     "execution_count": 405,
     "metadata": {},
     "output_type": "execute_result"
    }
   ],
   "source": [
    "soft = nn.Softmax(dim=1)\n",
    "softmax = soft(torch.tensor([[1,2],[2,0]]).float())\n",
    "-torch.log(softmax)"
   ]
  },
  {
   "cell_type": "code",
   "execution_count": 400,
   "id": "5dc8e246",
   "metadata": {},
   "outputs": [
    {
     "data": {
      "text/plain": [
       "tensor([[0.0000, 0.7311],\n",
       "        [0.0000, 0.8808]])"
      ]
     },
     "execution_count": 400,
     "metadata": {},
     "output_type": "execute_result"
    }
   ],
   "source": [
    "logit = torch.tensor([[0.2689, 0.7311], [0.1192, 0.8808]])\n",
    "label = torch.tensor([0,1])\n",
    "logit * label"
   ]
  },
  {
   "cell_type": "code",
   "execution_count": 407,
   "id": "5e3b1c9c",
   "metadata": {},
   "outputs": [
    {
     "data": {
      "text/plain": [
       "tensor(1)"
      ]
     },
     "execution_count": 407,
     "metadata": {},
     "output_type": "execute_result"
    }
   ],
   "source": [
    "xxx = torch.tensor([1,4,3])\n",
    "torch.argmax(xxx, dim=0)"
   ]
  },
  {
   "cell_type": "code",
   "execution_count": 418,
   "id": "d4bb244a",
   "metadata": {},
   "outputs": [],
   "source": [
    "softmax = nn.Softmax(dim=1)\n",
    "xxx = torch.tensor([[1,2,3],[2,3,4],[3,10,5]]).float()\n",
    "prob = softmax(xxx)"
   ]
  },
  {
   "cell_type": "code",
   "execution_count": 419,
   "id": "cc1c08f0",
   "metadata": {},
   "outputs": [
    {
     "data": {
      "text/plain": [
       "tensor([[9.0031e-02, 2.4473e-01, 6.6524e-01],\n",
       "        [9.0031e-02, 2.4473e-01, 6.6524e-01],\n",
       "        [9.0496e-04, 9.9241e-01, 6.6868e-03]])"
      ]
     },
     "execution_count": 419,
     "metadata": {},
     "output_type": "execute_result"
    }
   ],
   "source": [
    "prob"
   ]
  },
  {
   "cell_type": "code",
   "execution_count": 412,
   "id": "d5eefba1",
   "metadata": {},
   "outputs": [
    {
     "data": {
      "text/plain": [
       "tensor([2, 2, 2])"
      ]
     },
     "execution_count": 412,
     "metadata": {},
     "output_type": "execute_result"
    }
   ],
   "source": [
    "torch.argmax(prob, dim=1)"
   ]
  },
  {
   "cell_type": "code",
   "execution_count": 414,
   "id": "84be6bae",
   "metadata": {},
   "outputs": [
    {
     "data": {
      "text/plain": [
       "tensor([[-0.6142,  0.2495,  0.9717,  1.4405,  0.3166],\n",
       "        [ 0.3483, -0.9384,  1.2658, -0.1715, -1.9302],\n",
       "        [ 0.1193,  0.8993,  1.9247, -0.1831, -1.8961]])"
      ]
     },
     "execution_count": 414,
     "metadata": {},
     "output_type": "execute_result"
    }
   ],
   "source": [
    "torch.randn(3,5)"
   ]
  },
  {
   "cell_type": "code",
   "execution_count": 417,
   "id": "fd175e55",
   "metadata": {},
   "outputs": [
    {
     "data": {
      "text/plain": [
       "tensor([0.0900, 0.0900, 0.0900])"
      ]
     },
     "execution_count": 417,
     "metadata": {},
     "output_type": "execute_result"
    }
   ],
   "source": [
    "prob[:,0]"
   ]
  },
  {
   "cell_type": "code",
   "execution_count": 420,
   "id": "4bc03d39",
   "metadata": {},
   "outputs": [],
   "source": [
    "def nll(logits, y, reduction='mean'):\n",
    "  return nn.functional.corss_entropy(logits, y, reduction=reduction)"
   ]
  },
  {
   "cell_type": "code",
   "execution_count": 422,
   "id": "02601d3d",
   "metadata": {},
   "outputs": [
    {
     "data": {
      "text/plain": [
       "tensor([False,  True])"
      ]
     },
     "execution_count": 422,
     "metadata": {},
     "output_type": "execute_result"
    }
   ],
   "source": [
    "env_w = torch.tensor([[0,1], [2,1]]).float()\n",
    "torch.argmax(env_w, dim=1) == 0"
   ]
  },
  {
   "cell_type": "code",
   "execution_count": 444,
   "id": "966fb0c8",
   "metadata": {},
   "outputs": [
    {
     "data": {
      "text/plain": [
       "tensor([1, 1, 1, 0])"
      ]
     },
     "execution_count": 444,
     "metadata": {},
     "output_type": "execute_result"
    }
   ],
   "source": [
    "kkk = torch.tensor([[1,2,3],[2,0,3],[10,7,100],[3,2,1]])\n",
    "i = (torch.argmax(kkk, dim=1)==2).long()\n",
    "i"
   ]
  },
  {
   "cell_type": "code",
   "execution_count": 432,
   "id": "a29cb84d",
   "metadata": {},
   "outputs": [
    {
     "data": {
      "text/plain": [
       "tensor([ 0.2047,  1.5099, -0.0528,  0.8642, -0.9265, -0.5631, -0.2989, -0.1078,\n",
       "        -0.0600,  0.7134])"
      ]
     },
     "execution_count": 432,
     "metadata": {},
     "output_type": "execute_result"
    }
   ],
   "source": [
    "env_w = torch.randn(10)\n",
    "idx1 = (env_w.sigmoid()<=.5)\n",
    "env_w"
   ]
  },
  {
   "cell_type": "code",
   "execution_count": 428,
   "id": "83eeb149",
   "metadata": {},
   "outputs": [
    {
     "data": {
      "text/plain": [
       "tensor([ True,  True, False, False, False, False, False, False, False, False])"
      ]
     },
     "execution_count": 428,
     "metadata": {},
     "output_type": "execute_result"
    }
   ],
   "source": [
    "idx1"
   ]
  },
  {
   "cell_type": "code",
   "execution_count": 439,
   "id": "346c2acb",
   "metadata": {},
   "outputs": [],
   "source": [
    "a = (env_w>0)"
   ]
  },
  {
   "cell_type": "code",
   "execution_count": 440,
   "id": "831fd975",
   "metadata": {},
   "outputs": [
    {
     "data": {
      "text/plain": [
       "tensor([ True,  True, False,  True, False, False, False, False, False,  True])"
      ]
     },
     "execution_count": 440,
     "metadata": {},
     "output_type": "execute_result"
    }
   ],
   "source": [
    "a"
   ]
  },
  {
   "cell_type": "code",
   "execution_count": 442,
   "id": "37b03b89",
   "metadata": {},
   "outputs": [
    {
     "data": {
      "text/plain": [
       "tensor([0.2047, 1.5099, 0.8642, 0.7134])"
      ]
     },
     "execution_count": 442,
     "metadata": {},
     "output_type": "execute_result"
    }
   ],
   "source": [
    "env_w[a]"
   ]
  },
  {
   "cell_type": "code",
   "execution_count": 445,
   "id": "1f57d115",
   "metadata": {},
   "outputs": [
    {
     "data": {
      "text/plain": [
       "4"
      ]
     },
     "execution_count": 445,
     "metadata": {},
     "output_type": "execute_result"
    }
   ],
   "source": [
    "len(kkk)"
   ]
  },
  {
   "cell_type": "code",
   "execution_count": 450,
   "id": "b23445f6",
   "metadata": {},
   "outputs": [
    {
     "name": "stdout",
     "output_type": "stream",
     "text": [
      "tensor([[-1.0905, -0.5045,  1.7669],\n",
      "        [-1.1513,  0.2408, -0.2407],\n",
      "        [ 0.3860,  1.7952,  1.3887],\n",
      "        [-2.2579, -1.0264, -1.8036],\n",
      "        [ 0.5218,  0.0755,  0.4030],\n",
      "        [ 1.1839, -0.5478, -0.3704],\n",
      "        [-0.3142, -0.1052, -1.1031],\n",
      "        [-1.4296,  0.4288, -0.2225],\n",
      "        [-0.6343,  0.7277,  1.0312],\n",
      "        [-1.3737,  0.8007, -1.4553]])\n"
     ]
    },
    {
     "data": {
      "text/plain": [
       "tensor([[-1.1513,  0.2408, -0.2407],\n",
       "        [ 0.3860,  1.7952,  1.3887],\n",
       "        [-2.2579, -1.0264, -1.8036]])"
      ]
     },
     "execution_count": 450,
     "metadata": {},
     "output_type": "execute_result"
    }
   ],
   "source": [
    "env_w = torch.randn(10,3)\n",
    "print(env_w)\n",
    "env_w[torch.tensor([1,2,3])]"
   ]
  },
  {
   "cell_type": "code",
   "execution_count": 454,
   "id": "4eae82ab",
   "metadata": {},
   "outputs": [
    {
     "data": {
      "text/plain": [
       "(tensor([[-0.2363,  0.5511, -1.0261],\n",
       "         [ 1.1669,  1.5775, -0.2689],\n",
       "         [ 1.3777, -0.1930,  1.2618],\n",
       "         [ 1.1656, -0.3159, -0.9256],\n",
       "         [-0.5286,  1.8519,  0.1349],\n",
       "         [ 0.1317,  0.4753, -0.9558],\n",
       "         [ 1.3280, -0.9150, -1.1316],\n",
       "         [-0.6113, -1.0027, -0.7086],\n",
       "         [-1.1233, -0.4122,  1.2161],\n",
       "         [-2.2251, -0.8956, -0.4658]], device='cuda:0', requires_grad=True),\n",
       " tensor([[0.2738, 0.6018, 0.1243],\n",
       "         [0.3642, 0.5491, 0.0867],\n",
       "         [0.4766, 0.0991, 0.4244],\n",
       "         [0.7403, 0.1683, 0.0915],\n",
       "         [0.0727, 0.7861, 0.1412],\n",
       "         [0.3640, 0.5133, 0.1227],\n",
       "         [0.8392, 0.0891, 0.0717],\n",
       "         [0.3871, 0.2617, 0.3512],\n",
       "         [0.0746, 0.1518, 0.7736],\n",
       "         [0.0945, 0.3570, 0.5486]], device='cuda:0', grad_fn=<SoftmaxBackward>))"
      ]
     },
     "execution_count": 454,
     "metadata": {},
     "output_type": "execute_result"
    }
   ],
   "source": [
    "env_w = torch.randn(10,3).cuda().requires_grad_()\n",
    "softmax = nn.Softmax(dim=1)\n",
    "prob = softmax(env_w)\n",
    "env_w, prob"
   ]
  },
  {
   "cell_type": "code",
   "execution_count": 476,
   "id": "35359daa",
   "metadata": {},
   "outputs": [],
   "source": [
    "  class MLP(nn.Module):\n",
    "    def __init__(self, hidden_dim = 200):\n",
    "      super(MLP, self).__init__()\n",
    "      self.lin1 = nn.Linear(2 * 14 * 14, hidden_dim) ### 3개 color (2->3)\n",
    "      self.lin2 = nn.Linear(hidden_dim, hidden_dim)\n",
    "      self.lin3 = nn.Linear(hidden_dim, 2) ### BCE -> CE (1 -> 3) (labels 개수 2-> 3)\n",
    "      for lin in [self.lin1, self.lin2, self.lin3]:\n",
    "        nn.init.xavier_uniform_(lin.weight)\n",
    "        nn.init.zeros_(lin.bias)\n",
    "      self._main = nn.Sequential(self.lin1, nn.ReLU(True), self.lin2, nn.ReLU(True), self.lin3)\n",
    "    def forward(self, input):\n",
    "      out = input.view(input.shape[0], 2 * 14 * 14)\n",
    "      out = self._main(out)\n",
    "      return out"
   ]
  },
  {
   "cell_type": "code",
   "execution_count": 477,
   "id": "9442cc66",
   "metadata": {},
   "outputs": [],
   "source": [
    "model = MLP()\n",
    "x = torch.randn(4,2*14*14)\n",
    "output = model(x)"
   ]
  },
  {
   "cell_type": "code",
   "execution_count": 478,
   "id": "821cec0c",
   "metadata": {},
   "outputs": [
    {
     "data": {
      "text/plain": [
       "Parameter containing:\n",
       "tensor([[-0.0152,  0.0816,  0.0182,  ..., -0.1005, -0.0725,  0.0252],\n",
       "        [ 0.0641,  0.0112, -0.0026,  ..., -0.0389, -0.0109,  0.0107],\n",
       "        [ 0.0976, -0.0488, -0.0081,  ..., -0.0971,  0.0455,  0.0012],\n",
       "        ...,\n",
       "        [ 0.0320,  0.0871, -0.0881,  ..., -0.0178, -0.0100, -0.0774],\n",
       "        [-0.0219,  0.0786,  0.0338,  ...,  0.0893,  0.0385, -0.0558],\n",
       "        [-0.0868,  0.0960, -0.0519,  ...,  0.0491,  0.0186, -0.0861]],\n",
       "       requires_grad=True)"
      ]
     },
     "execution_count": 478,
     "metadata": {},
     "output_type": "execute_result"
    }
   ],
   "source": [
    "list(model.parameters())[0]"
   ]
  },
  {
   "cell_type": "code",
   "execution_count": 481,
   "id": "1b37acdc",
   "metadata": {},
   "outputs": [],
   "source": [
    "model2 = MLP()\n",
    "x = torch.randn(5,2*14*14)\n",
    "output = model2(x)"
   ]
  },
  {
   "cell_type": "code",
   "execution_count": 482,
   "id": "15e88bc0",
   "metadata": {},
   "outputs": [
    {
     "data": {
      "text/plain": [
       "Parameter containing:\n",
       "tensor([[-0.0152,  0.0816,  0.0182,  ..., -0.1005, -0.0725,  0.0252],\n",
       "        [ 0.0641,  0.0112, -0.0026,  ..., -0.0389, -0.0109,  0.0107],\n",
       "        [ 0.0976, -0.0488, -0.0081,  ..., -0.0971,  0.0455,  0.0012],\n",
       "        ...,\n",
       "        [ 0.0320,  0.0871, -0.0881,  ..., -0.0178, -0.0100, -0.0774],\n",
       "        [-0.0219,  0.0786,  0.0338,  ...,  0.0893,  0.0385, -0.0558],\n",
       "        [-0.0868,  0.0960, -0.0519,  ...,  0.0491,  0.0186, -0.0861]],\n",
       "       requires_grad=True)"
      ]
     },
     "execution_count": 482,
     "metadata": {},
     "output_type": "execute_result"
    }
   ],
   "source": [
    "list(model.parameters())[0]"
   ]
  },
  {
   "cell_type": "code",
   "execution_count": 486,
   "id": "b440e41a",
   "metadata": {},
   "outputs": [
    {
     "data": {
      "text/plain": [
       "[2, 2, 2, 2, 1, 1, 2, 2, 2, 2]"
      ]
     },
     "execution_count": 486,
     "metadata": {},
     "output_type": "execute_result"
    }
   ],
   "source": [
    "import random\n",
    "random.choices(population=[1,2], weights=[0.2,0.8], k=10)"
   ]
  },
  {
   "cell_type": "code",
   "execution_count": 487,
   "id": "b4c47047",
   "metadata": {},
   "outputs": [
    {
     "data": {
      "text/plain": [
       "2"
      ]
     },
     "execution_count": 487,
     "metadata": {},
     "output_type": "execute_result"
    }
   ],
   "source": [
    "aa = np.arange(0,3)\n",
    "np.random.choice(np.delete(aa, 1))"
   ]
  },
  {
   "cell_type": "code",
   "execution_count": 490,
   "id": "8151dc95",
   "metadata": {},
   "outputs": [],
   "source": [
    "kkk = random.choices(population=np.delete(aa,1), weights=[0.2,0.8], k=1)"
   ]
  },
  {
   "cell_type": "code",
   "execution_count": 492,
   "id": "7a4800cc",
   "metadata": {},
   "outputs": [
    {
     "data": {
      "text/plain": [
       "2"
      ]
     },
     "execution_count": 492,
     "metadata": {},
     "output_type": "execute_result"
    }
   ],
   "source": [
    "kkk[0]"
   ]
  },
  {
   "cell_type": "code",
   "execution_count": null,
   "id": "c7562f47",
   "metadata": {},
   "outputs": [],
   "source": []
  }
 ],
 "metadata": {
  "kernelspec": {
   "display_name": "Python 3 (ipykernel)",
   "language": "python",
   "name": "python3"
  },
  "language_info": {
   "codemirror_mode": {
    "name": "ipython",
    "version": 3
   },
   "file_extension": ".py",
   "mimetype": "text/x-python",
   "name": "python",
   "nbconvert_exporter": "python",
   "pygments_lexer": "ipython3",
   "version": "3.8.10"
  }
 },
 "nbformat": 4,
 "nbformat_minor": 5
}
